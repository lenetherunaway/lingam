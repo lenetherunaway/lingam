{
 "cells": [
  {
   "cell_type": "markdown",
   "metadata": {},
   "source": [
    "# VARMALiNGAM"
   ]
  },
  {
   "cell_type": "markdown",
   "metadata": {},
   "source": [
    "## Import and settings\n",
    "In this example, we need to import `numpy`, `pandas`, and `graphviz` in addition to `lingam`."
   ]
  },
  {
   "cell_type": "code",
   "execution_count": 1,
   "metadata": {},
   "outputs": [
    {
     "name": "stdout",
     "output_type": "stream",
     "text": [
      "['1.17.2', '0.25.1', '0.14', '1.2.1']\n"
     ]
    }
   ],
   "source": [
    "import numpy as np\n",
    "import pandas as pd\n",
    "import graphviz\n",
    "import lingam\n",
    "from lingam.utils import make_dot, print_causal_directions, print_dagc\n",
    "\n",
    "import warnings\n",
    "warnings.filterwarnings('ignore')\n",
    "\n",
    "print([np.__version__, pd.__version__, graphviz.__version__, lingam.__version__])\n",
    "\n",
    "np.set_printoptions(precision=3, suppress=True)\n",
    "np.random.seed(0)"
   ]
  },
  {
   "cell_type": "markdown",
   "metadata": {},
   "source": [
    "## Test data\n",
    "We create test data consisting of 5 variables."
   ]
  },
  {
   "cell_type": "code",
   "execution_count": 2,
   "metadata": {},
   "outputs": [],
   "source": [
    "psi0 = np.array([\n",
    "    [ 0.  ,  0.  , -0.25,  0.  ,  0.  ],\n",
    "    [-0.38,  0.  ,  0.14,  0.  ,  0.  ],\n",
    "    [ 0.  ,  0.  ,  0.  ,  0.  ,  0.  ],\n",
    "    [ 0.44, -0.2 , -0.09,  0.  ,  0.  ],\n",
    "    [ 0.07, -0.06,  0.  ,  0.07,  0.  ]\n",
    "])\n",
    "phi1 = np.array([\n",
    "    [-0.04, -0.29, -0.26,  0.14,  0.47],\n",
    "    [-0.42,  0.2 ,  0.1 ,  0.24,  0.25],\n",
    "    [-0.25,  0.18, -0.06,  0.15,  0.18],\n",
    "    [ 0.22,  0.39,  0.08,  0.12, -0.37],\n",
    "    [-0.43,  0.09, -0.23,  0.16,  0.25]\n",
    "])\n",
    "theta1 = np.array([\n",
    "    [ 0.15, -0.02, -0.3 , -0.2 ,  0.21],\n",
    "    [ 0.32,  0.12, -0.11,  0.03,  0.42],\n",
    "    [-0.07, -0.5 ,  0.03, -0.27, -0.21],\n",
    "    [-0.17,  0.35,  0.25,  0.24, -0.25],\n",
    "    [ 0.09,  0.4 ,  0.41,  0.24, -0.31]\n",
    "])\n",
    "causal_order = [2, 0, 1, 3, 4]\n",
    "\n",
    "# data generated from psi0 and phi1 and theta1, causal_order\n",
    "X = np.loadtxt('data/sample_data_varma_lingam.csv', delimiter=',')"
   ]
  },
  {
   "cell_type": "markdown",
   "metadata": {},
   "source": [
    "## Causal Discovery\n",
    "To run causal discovery, we create a `VARMALiNGAM` object and call the `fit` method."
   ]
  },
  {
   "cell_type": "code",
   "execution_count": 3,
   "metadata": {},
   "outputs": [
    {
     "data": {
      "text/plain": [
       "<lingam.varma_lingam.VARMALiNGAM at 0x109a125d0>"
      ]
     },
     "execution_count": 3,
     "metadata": {},
     "output_type": "execute_result"
    }
   ],
   "source": [
    "model = lingam.VARMALiNGAM(order=(1, 1), criterion=None)\n",
    "model.fit(X)"
   ]
  },
  {
   "cell_type": "markdown",
   "metadata": {},
   "source": [
    "Using the `causal_order_` properties, we can see the causal ordering as a result of the causal discovery."
   ]
  },
  {
   "cell_type": "code",
   "execution_count": 4,
   "metadata": {},
   "outputs": [
    {
     "data": {
      "text/plain": [
       "[2, 0, 1, 3, 4]"
      ]
     },
     "execution_count": 4,
     "metadata": {},
     "output_type": "execute_result"
    }
   ],
   "source": [
    "model.causal_order_"
   ]
  },
  {
   "cell_type": "markdown",
   "metadata": {},
   "source": [
    "Also, using the `adjacency_matrices_` properties, we can see the adjacency matrix as a result of the causal discovery."
   ]
  },
  {
   "cell_type": "code",
   "execution_count": 5,
   "metadata": {},
   "outputs": [
    {
     "data": {
      "text/plain": [
       "array([[ 0.   ,  0.   , -0.238,  0.   ,  0.   ],\n",
       "       [-0.392,  0.   ,  0.182,  0.   ,  0.   ],\n",
       "       [ 0.   ,  0.   ,  0.   ,  0.   ,  0.   ],\n",
       "       [ 0.523, -0.149,  0.   ,  0.   ,  0.   ],\n",
       "       [ 0.   ,  0.   ,  0.   ,  0.   ,  0.   ]])"
      ]
     },
     "execution_count": 5,
     "metadata": {},
     "output_type": "execute_result"
    }
   ],
   "source": [
    "# psi0\n",
    "model.adjacency_matrices_[0][0]"
   ]
  },
  {
   "cell_type": "code",
   "execution_count": 6,
   "metadata": {},
   "outputs": [
    {
     "data": {
      "text/plain": [
       "array([[-0.145, -0.289, -0.418,  0.041,  0.592],\n",
       "       [-0.323,  0.027,  0.025,  0.232,  0.378],\n",
       "       [-0.249,  0.19 , -0.012,  0.134,  0.263],\n",
       "       [ 0.181,  0.698,  0.21 ,  0.196, -0.814],\n",
       "       [-0.487,  0.064, -0.264,  0.111,  0.26 ]])"
      ]
     },
     "execution_count": 6,
     "metadata": {},
     "output_type": "execute_result"
    }
   ],
   "source": [
    "# psi1\n",
    "model.adjacency_matrices_[0][1]"
   ]
  },
  {
   "cell_type": "code",
   "execution_count": 7,
   "metadata": {},
   "outputs": [
    {
     "data": {
      "text/plain": [
       "array([[ 0.247, -0.12 , -0.129, -0.124,  0.037],\n",
       "       [ 0.377,  0.318, -0.121, -0.024,  0.574],\n",
       "       [-0.106, -0.624,  0.015, -0.301, -0.247],\n",
       "       [-0.219,  0.26 ,  0.313,  0.228, -0.058],\n",
       "       [ 0.256,  0.404,  0.411,  0.257, -0.287]])"
      ]
     },
     "execution_count": 7,
     "metadata": {},
     "output_type": "execute_result"
    }
   ],
   "source": [
    "# omega0\n",
    "model.adjacency_matrices_[1][0]"
   ]
  },
  {
   "cell_type": "markdown",
   "metadata": {},
   "source": [
    "We can draw a causal graph by utility funciton"
   ]
  },
  {
   "cell_type": "code",
   "execution_count": 8,
   "metadata": {},
   "outputs": [
    {
     "data": {
      "image/svg+xml": [
       "<?xml version=\"1.0\" encoding=\"UTF-8\" standalone=\"no\"?>\n",
       "<!DOCTYPE svg PUBLIC \"-//W3C//DTD SVG 1.1//EN\"\n",
       " \"http://www.w3.org/Graphics/SVG/1.1/DTD/svg11.dtd\">\n",
       "<!-- Generated by graphviz version 2.44.0 (20200408.0750)\n",
       " -->\n",
       "<!-- Pages: 1 -->\n",
       "<svg width=\"469pt\" height=\"218pt\"\n",
       " viewBox=\"0.00 0.00 469.04 218.00\" xmlns=\"http://www.w3.org/2000/svg\" xmlns:xlink=\"http://www.w3.org/1999/xlink\">\n",
       "<g id=\"graph0\" class=\"graph\" transform=\"scale(1 1) rotate(0) translate(4 214)\">\n",
       "<polygon fill=\"white\" stroke=\"transparent\" points=\"-4,4 -4,-214 465.04,-214 465.04,4 -4,4\"/>\n",
       "<!-- y0(t) -->\n",
       "<g id=\"node1\" class=\"node\">\n",
       "<title>y0(t)</title>\n",
       "<ellipse fill=\"none\" stroke=\"black\" cx=\"194.95\" cy=\"-105\" rx=\"27.9\" ry=\"18\"/>\n",
       "<text text-anchor=\"middle\" x=\"194.95\" y=\"-101.3\" font-family=\"Times,serif\" font-size=\"14.00\">y0(t)</text>\n",
       "</g>\n",
       "<!-- y1(t) -->\n",
       "<g id=\"node2\" class=\"node\">\n",
       "<title>y1(t)</title>\n",
       "<ellipse fill=\"none\" stroke=\"black\" cx=\"123.95\" cy=\"-18\" rx=\"27.9\" ry=\"18\"/>\n",
       "<text text-anchor=\"middle\" x=\"123.95\" y=\"-14.3\" font-family=\"Times,serif\" font-size=\"14.00\">y1(t)</text>\n",
       "</g>\n",
       "<!-- y0(t)&#45;&gt;y1(t) -->\n",
       "<g id=\"edge3\" class=\"edge\">\n",
       "<title>y0(t)&#45;&gt;y1(t)</title>\n",
       "<path fill=\"none\" stroke=\"black\" d=\"M182.25,-88.8C171.42,-75.83 155.66,-56.97 143.26,-42.12\"/>\n",
       "<polygon fill=\"black\" stroke=\"black\" points=\"145.87,-39.78 136.77,-34.35 140.49,-44.27 145.87,-39.78\"/>\n",
       "<text text-anchor=\"middle\" x=\"178.45\" y=\"-57.8\" font-family=\"Times,serif\" font-size=\"14.00\">&#45;0.39</text>\n",
       "</g>\n",
       "<!-- y3(t) -->\n",
       "<g id=\"node4\" class=\"node\">\n",
       "<title>y3(t)</title>\n",
       "<ellipse fill=\"none\" stroke=\"black\" cx=\"275.95\" cy=\"-18\" rx=\"27.9\" ry=\"18\"/>\n",
       "<text text-anchor=\"middle\" x=\"275.95\" y=\"-14.3\" font-family=\"Times,serif\" font-size=\"14.00\">y3(t)</text>\n",
       "</g>\n",
       "<!-- y0(t)&#45;&gt;y3(t) -->\n",
       "<g id=\"edge6\" class=\"edge\">\n",
       "<title>y0(t)&#45;&gt;y3(t)</title>\n",
       "<path fill=\"none\" stroke=\"black\" d=\"M209.06,-89.19C221.72,-75.91 240.47,-56.23 254.9,-41.08\"/>\n",
       "<polygon fill=\"black\" stroke=\"black\" points=\"257.64,-43.29 262,-33.64 252.57,-38.46 257.64,-43.29\"/>\n",
       "<text text-anchor=\"middle\" x=\"252.45\" y=\"-57.8\" font-family=\"Times,serif\" font-size=\"14.00\">0.52</text>\n",
       "</g>\n",
       "<!-- y2(t) -->\n",
       "<g id=\"node3\" class=\"node\">\n",
       "<title>y2(t)</title>\n",
       "<ellipse fill=\"none\" stroke=\"black\" cx=\"344.95\" cy=\"-192\" rx=\"27.9\" ry=\"18\"/>\n",
       "<text text-anchor=\"middle\" x=\"344.95\" y=\"-188.3\" font-family=\"Times,serif\" font-size=\"14.00\">y2(t)</text>\n",
       "</g>\n",
       "<!-- y4(t) -->\n",
       "<g id=\"node5\" class=\"node\">\n",
       "<title>y4(t)</title>\n",
       "<ellipse fill=\"none\" stroke=\"black\" cx=\"27.95\" cy=\"-18\" rx=\"27.9\" ry=\"18\"/>\n",
       "<text text-anchor=\"middle\" x=\"27.95\" y=\"-14.3\" font-family=\"Times,serif\" font-size=\"14.00\">y4(t)</text>\n",
       "</g>\n",
       "<!-- y0(t&#45;1) -->\n",
       "<g id=\"node6\" class=\"node\">\n",
       "<title>y0(t&#45;1)</title>\n",
       "<ellipse fill=\"none\" stroke=\"black\" cx=\"40.95\" cy=\"-105\" rx=\"35.19\" ry=\"18\"/>\n",
       "<text text-anchor=\"middle\" x=\"40.95\" y=\"-101.3\" font-family=\"Times,serif\" font-size=\"14.00\">y0(t&#45;1)</text>\n",
       "</g>\n",
       "<!-- y0(t&#45;1)&#45;&gt;y1(t) -->\n",
       "<g id=\"edge4\" class=\"edge\">\n",
       "<title>y0(t&#45;1)&#45;&gt;y1(t)</title>\n",
       "<path fill=\"none\" stroke=\"black\" d=\"M52.4,-87.96C59.99,-77.78 70.46,-64.58 80.95,-54 86.26,-48.64 92.35,-43.29 98.24,-38.43\"/>\n",
       "<polygon fill=\"black\" stroke=\"black\" points=\"100.45,-41.15 106.07,-32.17 96.07,-35.68 100.45,-41.15\"/>\n",
       "<text text-anchor=\"middle\" x=\"95.45\" y=\"-57.8\" font-family=\"Times,serif\" font-size=\"14.00\">&#45;0.32</text>\n",
       "</g>\n",
       "<!-- y0(t&#45;1)&#45;&gt;y4(t) -->\n",
       "<g id=\"edge9\" class=\"edge\">\n",
       "<title>y0(t&#45;1)&#45;&gt;y4(t)</title>\n",
       "<path fill=\"none\" stroke=\"black\" d=\"M34,-87.19C31.98,-81.51 30.02,-75.07 28.95,-69 27.67,-61.76 27.12,-53.84 26.97,-46.49\"/>\n",
       "<polygon fill=\"black\" stroke=\"black\" points=\"30.47,-46.26 26.98,-36.25 23.47,-46.25 30.47,-46.26\"/>\n",
       "<text text-anchor=\"middle\" x=\"43.45\" y=\"-57.8\" font-family=\"Times,serif\" font-size=\"14.00\">&#45;0.49</text>\n",
       "</g>\n",
       "<!-- y1(t&#45;1) -->\n",
       "<g id=\"node7\" class=\"node\">\n",
       "<title>y1(t&#45;1)</title>\n",
       "<ellipse fill=\"none\" stroke=\"black\" cx=\"275.95\" cy=\"-105\" rx=\"35.19\" ry=\"18\"/>\n",
       "<text text-anchor=\"middle\" x=\"275.95\" y=\"-101.3\" font-family=\"Times,serif\" font-size=\"14.00\">y1(t&#45;1)</text>\n",
       "</g>\n",
       "<!-- y1(t&#45;1)&#45;&gt;y3(t) -->\n",
       "<g id=\"edge7\" class=\"edge\">\n",
       "<title>y1(t&#45;1)&#45;&gt;y3(t)</title>\n",
       "<path fill=\"none\" stroke=\"black\" d=\"M275.95,-86.8C275.95,-75.16 275.95,-59.55 275.95,-46.24\"/>\n",
       "<polygon fill=\"black\" stroke=\"black\" points=\"279.45,-46.18 275.95,-36.18 272.45,-46.18 279.45,-46.18\"/>\n",
       "<text text-anchor=\"middle\" x=\"288.45\" y=\"-57.8\" font-family=\"Times,serif\" font-size=\"14.00\">0.70</text>\n",
       "</g>\n",
       "<!-- y2(t&#45;1) -->\n",
       "<g id=\"node8\" class=\"node\">\n",
       "<title>y2(t&#45;1)</title>\n",
       "<ellipse fill=\"none\" stroke=\"black\" cx=\"175.95\" cy=\"-192\" rx=\"35.19\" ry=\"18\"/>\n",
       "<text text-anchor=\"middle\" x=\"175.95\" y=\"-188.3\" font-family=\"Times,serif\" font-size=\"14.00\">y2(t&#45;1)</text>\n",
       "</g>\n",
       "<!-- y2(t&#45;1)&#45;&gt;y0(t) -->\n",
       "<g id=\"edge1\" class=\"edge\">\n",
       "<title>y2(t&#45;1)&#45;&gt;y0(t)</title>\n",
       "<path fill=\"none\" stroke=\"black\" d=\"M179.79,-173.8C182.41,-162.09 185.93,-146.34 188.92,-132.97\"/>\n",
       "<polygon fill=\"black\" stroke=\"black\" points=\"192.41,-133.41 191.17,-122.89 185.58,-131.88 192.41,-133.41\"/>\n",
       "<text text-anchor=\"middle\" x=\"200.45\" y=\"-144.8\" font-family=\"Times,serif\" font-size=\"14.00\">&#45;0.42</text>\n",
       "</g>\n",
       "<!-- y3(t&#45;1) -->\n",
       "<g id=\"node9\" class=\"node\">\n",
       "<title>y3(t&#45;1)</title>\n",
       "<ellipse fill=\"none\" stroke=\"black\" cx=\"425.95\" cy=\"-192\" rx=\"35.19\" ry=\"18\"/>\n",
       "<text text-anchor=\"middle\" x=\"425.95\" y=\"-188.3\" font-family=\"Times,serif\" font-size=\"14.00\">y3(t&#45;1)</text>\n",
       "</g>\n",
       "<!-- y4(t&#45;1) -->\n",
       "<g id=\"node10\" class=\"node\">\n",
       "<title>y4(t&#45;1)</title>\n",
       "<ellipse fill=\"none\" stroke=\"black\" cx=\"263.95\" cy=\"-192\" rx=\"35.19\" ry=\"18\"/>\n",
       "<text text-anchor=\"middle\" x=\"263.95\" y=\"-188.3\" font-family=\"Times,serif\" font-size=\"14.00\">y4(t&#45;1)</text>\n",
       "</g>\n",
       "<!-- y4(t&#45;1)&#45;&gt;y0(t) -->\n",
       "<g id=\"edge2\" class=\"edge\">\n",
       "<title>y4(t&#45;1)&#45;&gt;y0(t)</title>\n",
       "<path fill=\"none\" stroke=\"black\" d=\"M250.97,-175.01C240.53,-162.15 225.7,-143.89 213.93,-129.38\"/>\n",
       "<polygon fill=\"black\" stroke=\"black\" points=\"216.42,-126.9 207.4,-121.34 210.99,-131.31 216.42,-126.9\"/>\n",
       "<text text-anchor=\"middle\" x=\"245.45\" y=\"-144.8\" font-family=\"Times,serif\" font-size=\"14.00\">0.59</text>\n",
       "</g>\n",
       "<!-- y4(t&#45;1)&#45;&gt;y1(t) -->\n",
       "<g id=\"edge5\" class=\"edge\">\n",
       "<title>y4(t&#45;1)&#45;&gt;y1(t)</title>\n",
       "<path fill=\"none\" stroke=\"black\" d=\"M236.76,-180.41C216.31,-172.31 190.12,-161.6 179.95,-156 157.59,-143.69 145.68,-145.12 132.95,-123 119.5,-99.65 118.64,-68.35 120.28,-46.2\"/>\n",
       "<polygon fill=\"black\" stroke=\"black\" points=\"123.77,-46.43 121.24,-36.14 116.8,-45.76 123.77,-46.43\"/>\n",
       "<text text-anchor=\"middle\" x=\"145.45\" y=\"-101.3\" font-family=\"Times,serif\" font-size=\"14.00\">0.38</text>\n",
       "</g>\n",
       "<!-- y4(t&#45;1)&#45;&gt;y3(t) -->\n",
       "<g id=\"edge8\" class=\"edge\">\n",
       "<title>y4(t&#45;1)&#45;&gt;y3(t)</title>\n",
       "<path fill=\"none\" stroke=\"black\" d=\"M281.36,-176.28C294.78,-163.7 312.3,-144.3 319.95,-123 330.55,-93.46 321.6,-80.6 304.95,-54 302.36,-49.87 299.34,-45.7 296.23,-41.74\"/>\n",
       "<polygon fill=\"black\" stroke=\"black\" points=\"298.93,-39.51 289.87,-34.01 293.52,-43.95 298.93,-39.51\"/>\n",
       "<text text-anchor=\"middle\" x=\"338.45\" y=\"-101.3\" font-family=\"Times,serif\" font-size=\"14.00\">&#45;0.81</text>\n",
       "</g>\n",
       "</g>\n",
       "</svg>\n"
      ],
      "text/plain": [
       "<graphviz.dot.Digraph at 0x1a1d0c3050>"
      ]
     },
     "execution_count": 8,
     "metadata": {},
     "output_type": "execute_result"
    }
   ],
   "source": [
    "labels = ['y0(t)', 'y1(t)', 'y2(t)', 'y3(t)', 'y4(t)', 'y0(t-1)', 'y1(t-1)', 'y2(t-1)', 'y3(t-1)', 'y4(t-1)']\n",
    "make_dot(np.hstack(model.adjacency_matrices_[0]), lower_limit=0.3, ignore_shape=True, labels=labels)"
   ]
  },
  {
   "cell_type": "markdown",
   "metadata": {},
   "source": [
    "## Bootstrap"
   ]
  },
  {
   "cell_type": "markdown",
   "metadata": {},
   "source": [
    "### Bootstrapping\n",
    "We call `bootstrap()` method instead of `fit()`. Here, the second argument specifies the number of bootstrap sampling."
   ]
  },
  {
   "cell_type": "code",
   "execution_count": 9,
   "metadata": {},
   "outputs": [],
   "source": [
    "model = lingam.VARMALiNGAM()\n",
    "result = model.bootstrap(X, 100)"
   ]
  },
  {
   "cell_type": "markdown",
   "metadata": {},
   "source": [
    "Since `BootstrapResult` object is returned, we can get the ranking of the causal directions extracted by `get_causal_direction_counts()` method. In the following sample code, `n_directions` option is limited to the causal directions of the top 8 rankings, and `min_causal_effect` option is limited to causal directions with a coefficient of 0.4 or more."
   ]
  },
  {
   "cell_type": "code",
   "execution_count": 10,
   "metadata": {},
   "outputs": [],
   "source": [
    "cdc = result.get_causal_direction_counts(n_directions=8, min_causal_effect=0.4, split_by_causal_effect_sign=True)"
   ]
  },
  {
   "cell_type": "markdown",
   "metadata": {},
   "source": [
    "We can check the result by utility function."
   ]
  },
  {
   "cell_type": "code",
   "execution_count": 11,
   "metadata": {},
   "outputs": [
    {
     "name": "stdout",
     "output_type": "stream",
     "text": [
      "y4(t) <--- y0(t-1) (b<0) (100.0%)\n",
      "y2(t) <--- e1(t-1) (b<0) (100.0%)\n",
      "y0(t) <--- y2(t-1) (b<0) (99.0%)\n",
      "y3(t) <--- y1(t-1) (b>0) (95.0%)\n",
      "y1(t) <--- e4(t-1) (b>0) (80.0%)\n",
      "y0(t) <--- y4(t-1) (b>0) (75.0%)\n",
      "y4(t) <--- y4(t-1) (b>0) (68.0%)\n",
      "y3(t) <--- y2(t) (b<0) (51.0%)\n"
     ]
    }
   ],
   "source": [
    "labels = ['y0(t)', 'y1(t)', 'y2(t)', 'y3(t)', 'y4(t)', 'y0(t-1)', 'y1(t-1)', 'y2(t-1)', 'y3(t-1)', 'y4(t-1)', 'e0(t-1)', 'e1(t-1)', 'e2(t-1)', 'e3(t-1)', 'e4(t-1)']\n",
    "print_causal_directions(cdc, 100, labels=labels)"
   ]
  },
  {
   "cell_type": "markdown",
   "metadata": {},
   "source": [
    "Also, using the `get_directed_acyclic_graph_counts()` method, we can get the ranking of the DAGs extracted. In the following sample code, `n_dags` option is limited to the dags of the top 3 rankings, and `min_causal_effect` option is limited to causal directions with a coefficient of 0.3 or more."
   ]
  },
  {
   "cell_type": "code",
   "execution_count": 12,
   "metadata": {},
   "outputs": [],
   "source": [
    "dagc = result.get_directed_acyclic_graph_counts(n_dags=3, min_causal_effect=0.3, split_by_causal_effect_sign=True)"
   ]
  },
  {
   "cell_type": "markdown",
   "metadata": {},
   "source": [
    "We can check the result by utility function."
   ]
  },
  {
   "cell_type": "code",
   "execution_count": 13,
   "metadata": {},
   "outputs": [
    {
     "name": "stdout",
     "output_type": "stream",
     "text": [
      "DAG[0]: 5.0%\n",
      "\ty0(t) <--- y3(t) (b<0)\n",
      "\ty0(t) <--- y2(t-1) (b<0)\n",
      "\ty0(t) <--- y4(t-1) (b>0)\n",
      "\ty1(t) <--- y0(t-1) (b<0)\n",
      "\ty1(t) <--- e4(t-1) (b>0)\n",
      "\ty2(t) <--- y3(t) (b<0)\n",
      "\ty2(t) <--- y1(t-1) (b>0)\n",
      "\ty2(t) <--- e1(t-1) (b<0)\n",
      "\ty3(t) <--- y1(t-1) (b>0)\n",
      "\ty3(t) <--- y4(t-1) (b<0)\n",
      "\ty4(t) <--- y3(t) (b>0)\n",
      "\ty4(t) <--- y0(t-1) (b<0)\n",
      "\ty4(t) <--- y2(t-1) (b<0)\n",
      "\ty4(t) <--- y4(t-1) (b>0)\n",
      "\ty4(t) <--- e2(t-1) (b>0)\n",
      "\ty4(t) <--- e4(t-1) (b<0)\n",
      "DAG[1]: 3.0%\n",
      "\ty0(t) <--- y1(t-1) (b<0)\n",
      "\ty0(t) <--- y2(t-1) (b<0)\n",
      "\ty0(t) <--- y4(t-1) (b>0)\n",
      "\ty1(t) <--- y0(t-1) (b<0)\n",
      "\ty1(t) <--- e4(t-1) (b>0)\n",
      "\ty2(t) <--- y0(t-1) (b<0)\n",
      "\ty2(t) <--- y4(t-1) (b>0)\n",
      "\ty2(t) <--- e1(t-1) (b<0)\n",
      "\ty2(t) <--- e3(t-1) (b<0)\n",
      "\ty3(t) <--- y0(t) (b<0)\n",
      "\ty3(t) <--- y1(t) (b<0)\n",
      "\ty3(t) <--- y2(t) (b<0)\n",
      "\ty3(t) <--- y1(t-1) (b>0)\n",
      "\ty3(t) <--- y3(t-1) (b>0)\n",
      "\ty4(t) <--- y3(t) (b>0)\n",
      "\ty4(t) <--- y0(t-1) (b<0)\n",
      "\ty4(t) <--- y2(t-1) (b<0)\n",
      "\ty4(t) <--- y4(t-1) (b>0)\n",
      "\ty4(t) <--- e2(t-1) (b>0)\n",
      "\ty4(t) <--- e4(t-1) (b<0)\n",
      "DAG[2]: 3.0%\n",
      "\ty0(t) <--- y3(t) (b<0)\n",
      "\ty0(t) <--- y2(t-1) (b<0)\n",
      "\ty0(t) <--- y4(t-1) (b>0)\n",
      "\ty1(t) <--- y0(t-1) (b<0)\n",
      "\ty1(t) <--- e4(t-1) (b>0)\n",
      "\ty2(t) <--- y0(t-1) (b<0)\n",
      "\ty2(t) <--- y4(t-1) (b>0)\n",
      "\ty2(t) <--- e1(t-1) (b<0)\n",
      "\ty2(t) <--- e3(t-1) (b<0)\n",
      "\ty3(t) <--- y1(t) (b<0)\n",
      "\ty3(t) <--- y2(t) (b<0)\n",
      "\ty3(t) <--- y1(t-1) (b>0)\n",
      "\ty3(t) <--- y3(t-1) (b>0)\n",
      "\ty3(t) <--- y4(t-1) (b<0)\n",
      "\ty4(t) <--- y3(t) (b>0)\n",
      "\ty4(t) <--- y0(t-1) (b<0)\n",
      "\ty4(t) <--- y4(t-1) (b>0)\n",
      "\ty4(t) <--- e2(t-1) (b>0)\n",
      "\ty4(t) <--- e4(t-1) (b<0)\n"
     ]
    }
   ],
   "source": [
    "print_dagc(dagc, 100, labels=labels)"
   ]
  },
  {
   "cell_type": "markdown",
   "metadata": {},
   "source": [
    "Using the `get_probabilities()` method, we can get the probability of bootstrapping."
   ]
  },
  {
   "cell_type": "code",
   "execution_count": 14,
   "metadata": {},
   "outputs": [
    {
     "name": "stdout",
     "output_type": "stream",
     "text": [
      "Probability of psi0:\n",
      " [[0.   0.07 0.69 0.69 0.25]\n",
      " [0.05 0.   0.37 0.43 0.  ]\n",
      " [0.18 0.63 0.   0.45 0.05]\n",
      " [0.31 0.57 0.55 0.   0.  ]\n",
      " [0.09 1.   0.01 1.   0.  ]]\n",
      "Probability of psi1:\n",
      " [[0.39 0.86 1.   0.33 1.  ]\n",
      " [1.   1.   1.   1.   0.94]\n",
      " [1.   1.   0.01 1.   0.99]\n",
      " [0.44 1.   0.3  1.   1.  ]\n",
      " [1.   0.96 1.   0.   1.  ]]\n",
      "Probability of omega1:\n",
      " [[1.   0.06 0.31 0.02 0.01]\n",
      " [1.   0.63 0.   0.37 1.  ]\n",
      " [0.32 1.   0.08 1.   0.92]\n",
      " [0.29 0.45 1.   0.46 0.16]\n",
      " [1.   1.   1.   1.   1.  ]]\n"
     ]
    }
   ],
   "source": [
    "prob = result.get_probabilities(min_causal_effect=0.1)\n",
    "print('Probability of psi0:\\n', prob[0])\n",
    "print('Probability of psi1:\\n', prob[1])\n",
    "print('Probability of omega1:\\n', prob[2])"
   ]
  },
  {
   "cell_type": "code",
   "execution_count": null,
   "metadata": {},
   "outputs": [],
   "source": []
  }
 ],
 "metadata": {
  "kernelspec": {
   "display_name": "Python 3",
   "language": "python",
   "name": "python3"
  },
  "language_info": {
   "codemirror_mode": {
    "name": "ipython",
    "version": 3
   },
   "file_extension": ".py",
   "mimetype": "text/x-python",
   "name": "python",
   "nbconvert_exporter": "python",
   "pygments_lexer": "ipython3",
   "version": "3.7.4"
  }
 },
 "nbformat": 4,
 "nbformat_minor": 4
}
